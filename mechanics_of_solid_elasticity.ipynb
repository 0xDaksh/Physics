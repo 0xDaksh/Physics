{
  "cells": [
    {
      "cell_type": "markdown",
      "source": [
        "# Mechanics of Solid\n",
        "\n\n",
        "## Deforming Force:\n",
        "The Force that we apply to a solid that creates a charge in it's shape, size and configuration is called a Deforming force.\n",
        "\n",
        "For Example: Stretching a wire changes it's size, shape and configuration.\n",
        "\n",
        "## Restoring Force: \n",
        "The Opposing force exerted by the solid that restores it back to it's orignal configuration is called a Restoring Force. This force is exerted when we apply Deforming Force onto the body.\n",
        "\n",
        "For Example: After Stretching a wire to an extent, when we stop applying the deforming force it comes back to it's original shape, size and configuration due to the restoring force.\n",
        "\n",
        "<img src=\"http://philschatz.com/physics-book/resources/Figure_04_01_02.jpg\">\n",
        "\n",
        "The Force applied is equivalent to the body's weight, such that:\n",
        "\n",
        "> $$ Force = Mass * Gravity $$\n",
        "\n",
        "## Stress\n",
        "The Internal Restoring Force acting upon unit Area on a deformed body is called Stress.\n",
        "\n",
        "> $$ Stress = Restoring Force / Area $$\n",
        "\n",
        "If there is no permanent change the Restoring Force is equivalent to the Deforming force and in Such Cases the Stress is:\n",
        "\n",
        "> $$ Stress = Defroming Force / Area of Cross Section $$\n",
        "\n\n",
        "## Types of Stress\n",
        "\n",
        "### Tensile Stress\n",
        "\n",
        "In tensile stress the body or the solid is elongated.\n",
        "\n",
        "> $$ Tensile Stress = Force / Area $$\n",
        "\n",
        "Hence, L = L1 + ΔL\n",
        "\n",
        "### Bulk Stress / Volumetric Stress\n",
        "\n",
        "In bulk stress the volume of the Object is either compressed or expanded which causes a change in the volume of the object.\n",
        "\n",
        "> $$ Bulk Stress = Force / Area $$\n",
        "\n",
        "Hence, V = V1 + ΔV\n",
        "\n\n",
        "![](http://scienceblogs.com/startswithabang/files/2014/11/FG17_04.jpg)\n",
        "\n",
        "### Sharing Stress\n",
        "\n",
        "When we deform a body tangentially or change a plane it out, it Produces a change in shape of the body. This is Known as Sharing Stress.\n",
        "\n",
        "> $$ Sharing Stress = Force / Area $$\n",
        "\n",
        "In Shairng Stress, The angle or theta changes.\n"
      ],
      "metadata": {
        "collapsed": false,
        "outputHidden": false,
        "inputHidden": false
      }
    },
    {
      "cell_type": "markdown",
      "source": [
        "# Types of Bodies\n",
        "\n",
        "## Elasticity\n",
        "> The Property of a Solid by virtue of which it regains it's orignal configuration such that the shape and size are same.\n",
        "\n",
        "## Perfectly Elastic Body\n",
        "> A Body is said to be perfectly elastic when it completely regains it's orignal form when the deforming force acting upon it is removed.\n",
        "\n",
        "## Plasticity\n",
        "> The Property of a Solid by virtue of which it does not regain it's orignal configuration / form when the deforming force acting upon it is removed.\n",
        "\n",
        "## Perfectly Plastic Body\n",
        "> A Body is said to be perfectly plastic when it doesn't regain it's orignal form when deforming force is removed.\n"
      ],
      "metadata": {}
    },
    {
      "cell_type": "markdown",
      "source": [
        "# Strain\n",
        "\n",
        "When a Deforming force acts on a body, the body undergoes a change in both it's shape and size and the Ratio of Change in Configuration upon original Configuration is called Strain.\n",
        "\n",
        "- Longitudnal Strain = ΔL / L\n",
        "\n",
        "- Volumetric Strain = ΔV / V\n",
        "\n- Sharing Strain = tanϑ = ΔL / L"
      ],
      "metadata": {}
    },
    {
      "cell_type": "markdown",
      "source": [
        "# Hooke's Law\n",
        "The Extension (ΔL) that is produced in the wire is directly propotional to the load applied within a limit of elasticity (yield).\n",
        "\n",
        "Stress is Directly Propotional to Strain, ie: Stress ∝ Strain\n",
        "\n",
        "Hence, Stress / Strain = Constant\n",
        "\nThis constant is also called the modulous of elasticity."
      ],
      "metadata": {}
    },
    {
      "cell_type": "markdown",
      "source": [
        "# Stress-Strain Curve\n",
        "![](https://cdn.instructables.com/F19/RLLY/I5P7JKKT/F19RLLYI5P7JKKT.RECT2100.jpg)\n",
        "\n",
        "- The Points 0 to A show that Hooke's Law is Followed and shows that the body is showing elastic behaviour till the point A.\n",
        "- The Point B is The Yield / Elastic Limit point after which If We try to stretch more then it creates a Permanent Set and Doesn't Restore to it's orignal Configuration.\n",
        "- The Points C to D show us Plastic Behaviour where the body starts to act like a plastic.\n",
        "- The Point D is the Break Down / Fracture Point where the body breaks up.\n",
        "\n",
        "### Extras\n",
        "\n",
        "- Materials that have large C to D Region are considered good for Mallebility.\n",
        "- Materials that have large A to C Region are considered good for Ductility.\n",
        "\n",
        "### Elastic Limit\n",
        "\nIt is the upper limit of deforming force upto which if we stretch more then the limit it creates a permanent set and doesn't gain it's position back completely."
      ],
      "metadata": {}
    },
    {
      "cell_type": "markdown",
      "source": [
        "# Modulous of Elasticity.\n",
        "\n",
        "## Young's Modulous of Elasticity\n",
        "\n",
        "> $$ Y = Tensile Stress / Longitudnal Strain $$\n",
        "> $$ Y = Force * L / Area * \\Delta L $$\n",
        "\n",
        "## Bulk's Modulous of Elasticity\n",
        "\n",
        "> $$ B = Bulk Stress / Volumetric Strain $$\n",
        "> $$ B = Pressure / Volumetric Strain $$\n",
        "> $$ B = P/- \\Delta V / V  $$\n",
        "> $$ B = -PV / \\Delta V $$\n",
        "\n",
        "## Modulous of Rigidity\n",
        "\n",
        "> $$ R = Sharing Stress/ Sharing Strain $$\n",
        "> $$ Sharing Strain = tan\\theta = \\Delta X / l $$\n",
        "> $$ R = F/A(tan\\theta) = F * l / A * \\Delta x $$"
      ],
      "metadata": {}
    },
    {
      "cell_type": "markdown",
      "source": [
        "### Lateral Strain\n",
        "\n",
        "The Strain Produced in The Perpendicular Direction or the Ratio of Change in Diameter (ΔD) to the Orignal Diameter is called Lateral Strain.\n",
        "### The Poisson's Ratio\n",
        "\n",
        "The Ratio of Lateral Strain to Longitudnal Strain is called Poisson's Ratio. It is denoted by σ\n",
        "> $$ Poissons Ratio = Lateral Strain / Longitudnal Strain $$\n",
        "> $$ = -\\Delta D * L / D * \\Delta L $$\n",
        "\n",
        "### The Elastic Fatigue\n",
        "\n",
        "The Loss of Strength of material due to repeate strains of the material is called elastic Fatigue.\n",
        "\n",
        "### Elastic After Effect\n",
        "\n",
        "The delay in regaining the orignal config by the bodies on the removal of deforming force is called Elastic AfterEffect.\n",
        "\n",
        "### Elastic Potential Energy Stored in a Wire\n",
        "\n",
        "> $$ WD = Stretching Force * Extension $$\n",
        "> $$ WD = F * \\Delta L / 2 * Area$$"
      ],
      "metadata": {}
    }
  ],
  "metadata": {
    "kernelspec": {
      "name": "python3",
      "language": "python",
      "display_name": "Python 3"
    },
    "kernel_info": {
      "name": "python3"
    },
    "language_info": {
      "name": "python",
      "version": "3.6.2",
      "mimetype": "text/x-python",
      "codemirror_mode": {
        "name": "ipython",
        "version": 3
      },
      "pygments_lexer": "ipython3",
      "nbconvert_exporter": "python",
      "file_extension": ".py"
    },
    "nteract": {
      "version": "0.3.4"
    }
  },
  "nbformat": 4,
  "nbformat_minor": 4
}